{
 "cells": [
  {
   "cell_type": "code",
   "execution_count": 1,
   "id": "8b7a39d6",
   "metadata": {},
   "outputs": [],
   "source": [
    "from bs4 import BeautifulSoup\n",
    "import requests\n",
    "from datetime import datetime"
   ]
  },
  {
   "cell_type": "code",
   "execution_count": 2,
   "id": "fed539a4",
   "metadata": {},
   "outputs": [],
   "source": [
    "headers = {'User-Agent':'Mozilla/5.0 (Windows NT 6.3; Win64; x64) AppleWebKit/537.36 (KHTML, like Gecko) Chrome/63.0.3239.132 Safari/537.36'}\n",
    "url = \"https://datalab.naver.com/keyword/realtimeList.naver?age=20s\"\n",
    "response = requests.get(url,headers=headers)\n",
    "soup = BeautifulSoup(response.text, 'html.parser')\n",
    "rank = 1\n",
    "# span - item_title\n",
    "results = soup.findAll('span','item_title')\n",
    "\n",
    "print(response.text)\n",
    "\n",
    "search_rank_file = open(\"result.txt\",\"w\")\n",
    "\n",
    "print(datetime.today().strftime(\"%Y년 %m월 %d일의 실시간 검색어 순위입니다.\\n\"))\n",
    "\n",
    "for result in results:\n",
    "    search_rank_file.write(str(rank)+\"위:\"+result.get_text()+\"\\n\")\n",
    "    print(rank,\"위 : \",result.get_text(),\"\\n\")\n",
    "    rank += 1"
   ]
  },
  {
   "cell_type": "code",
   "execution_count": null,
   "id": "dd878060",
   "metadata": {},
   "outputs": [],
   "source": [
    "import requests\n",
    "import json\n",
    "\n",
    "city = \"Seoul\"\n",
    "apikey = \"################################\"\n",
    "lang = \"kr\"\n",
    "\n",
    "api = f\"http://api.openweathermap.org/data/2.5/weather?q={city}&appid={apikey}&lang={lang}&units=metric\"\n",
    "\n",
    "result = requests.get(api)\n",
    "data = json.loads(result.text)\n",
    "\n",
    "print(data[\"name\"],\"의 날씨입니다.\")\n",
    "print(\"날씨는 \",data[\"weather\"][0][\"description\"],\"입니다.\")\n",
    "print(\"현재 온도는 \",data[\"main\"][\"temp\"],\"입니다.\")\n",
    "print(\"하지만 체감 온도는 \",data[\"main\"][\"feels_like\"],\"입니다.\")\n",
    "print(\"최저 기온은 \",data[\"main\"][\"temp_min\"],\"입니다.\")\n",
    "print(\"최고 기온은 \",data[\"main\"][\"temp_max\"],\"입니다.\")\n",
    "print(\"습도는 \",data[\"main\"][\"humidity\"],\"입니다.\")\n",
    "print(\"기압은 \",data[\"main\"][\"pressure\"],\"입니다.\")\n",
    "print(\"풍향은 \",data[\"wind\"][\"deg\"],\"입니다.\")\n",
    "print(\"풍속은 \",data[\"wind\"][\"speed\"],\"입니다.\")"
   ]
  },
  {
   "cell_type": "code",
   "execution_count": null,
   "id": "516ccd61",
   "metadata": {},
   "outputs": [],
   "source": [
    "from googletrans import Translator\n",
    "\n",
    "translator = Translator()\n",
    "\n",
    "# sentence = \"안녕하세요 코드라이언입니다.\"\n",
    "sentence = input(\"번역을 원하는 문장을 입력해주세요 : \")\n",
    "dest = input(\"어떤 언어로 번역을 원하시나요?\")\n",
    "\n",
    "result = translator.translate(sentence,dest)\n",
    "detected = translator.detect(sentence)\n",
    "\n",
    "print(\"===========출 력 결 과===========\")\n",
    "print(detected.lang,\":\",sentence)\n",
    "print(result.dest,\":\",result.text)\n",
    "print(\"=================================\")"
   ]
  },
  {
   "cell_type": "code",
   "execution_count": null,
   "id": "0987408e",
   "metadata": {},
   "outputs": [],
   "source": [
    "import smtplib\n",
    "from email.message import EmailMessage\n",
    "import imghdr\n",
    "import re\n",
    "\n",
    "SMTP_SERVER = \"smtp.gmail.com\"\n",
    "SMTP_PORT = 465\n",
    "\n",
    "def sendEmail(addr):\n",
    "    reg = \"^[a-zA-Z0-9.+_-]+@[a-zA-Z0-9]+\\.[a-zA-Z]{2,3}$\"\n",
    "    if bool(re.match(reg,addr)):\n",
    "        smtp.send_message(message)\n",
    "        print(\"정상적으로 메일이 발송되었습니다.\")\n",
    "    else:\n",
    "        print(\"유효한 이메일 주소가 아닙니다.\")\n",
    "\n",
    "message = EmailMessage()\n",
    "message.set_content(\"코드라이언 수업중입니다.\")\n",
    "\n",
    "message[\"Subject\"] = \"이것은 제목입니다.\"\n",
    "message[\"From\"] = \"###@gmail.com\"\n",
    "message[\"To\"] = \"###@gmail.com\"\n",
    "\n",
    "with open(\"codelion.png\",\"rb\") as image:\n",
    "    image_file = image.read()\n",
    "\n",
    "image_type = imghdr.what('codelion',image_file)\n",
    "message.add_attachment(image_file,maintype='image',subtype=image_type)\n",
    "\n",
    "smtp = smtplib.SMTP_SSL(SMTP_SERVER,SMTP_PORT)\n",
    "smtp.login(\"###@gmail.com\",\"######\")\n",
    "# 메일을 보내는 sendEmail 함수를 호출해서 실행해보기\n",
    "sendEmail(\"###gmailcom\")\n",
    "smtp.quit()"
   ]
  }
 ],
 "metadata": {
  "interpreter": {
   "hash": "4939942bb64a3b5bba3f99013f53afb450b39af59b142fb44879ccfd4d19dab1"
  },
  "kernelspec": {
   "display_name": "Python 3.9.7 ('base')",
   "language": "python",
   "name": "python3"
  },
  "language_info": {
   "codemirror_mode": {
    "name": "ipython",
    "version": 3
   },
   "file_extension": ".py",
   "mimetype": "text/x-python",
   "name": "python",
   "nbconvert_exporter": "python",
   "pygments_lexer": "ipython3",
   "version": "3.9.7"
  }
 },
 "nbformat": 4,
 "nbformat_minor": 5
}
