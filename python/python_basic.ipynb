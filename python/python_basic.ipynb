{
 "cells": [
  {
   "cell_type": "code",
   "execution_count": 2,
   "metadata": {},
   "outputs": [
    {
     "name": "stdout",
     "output_type": "stream",
     "text": [
      "치킨\n",
      "치킨\n",
      "치킨\n",
      "제육볶음\n",
      "된장찌개\n",
      "떡볶이\n",
      "라면\n",
      "떡볶이\n",
      "떡볶이\n",
      "된장찌개\n",
      "치킨\n",
      "치킨\n",
      "라면\n",
      "제육볶음\n",
      "치킨\n",
      "라면\n",
      "된장찌개\n",
      "된장찌개\n",
      "치킨\n",
      "떡볶이\n",
      "치킨\n",
      "떡볶이\n",
      "제육볶음\n",
      "제육볶음\n",
      "라면\n",
      "제육볶음\n",
      "떡볶이\n",
      "떡볶이\n",
      "제육볶음\n",
      "제육볶음\n"
     ]
    }
   ],
   "source": [
    "# For문\n",
    "import random\n",
    "for x in range(30):\n",
    "    print(random.choice(['된장찌개', '제육볶음', '치킨', '떡볶이', '라면']))"
   ]
  },
  {
   "cell_type": "code",
   "execution_count": 3,
   "metadata": {},
   "outputs": [
    {
     "name": "stdout",
     "output_type": "stream",
     "text": [
      "제육볶음\n"
     ]
    }
   ],
   "source": [
    "# while 문\n",
    "while True:\n",
    "    print(random.choice(['된장찌개', '제육볶음', '치킨', '떡볶이', '라면']))\n",
    "    break"
   ]
  },
  {
   "cell_type": "code",
   "execution_count": 4,
   "metadata": {},
   "outputs": [
    {
     "name": "stdout",
     "output_type": "stream",
     "text": [
      "냉장고\n"
     ]
    }
   ],
   "source": [
    "# 데이터상자 만들기\n",
    "import random\n",
    "\n",
    "lunch = random.choice(['된장찌개', '피자', '제육볶음'])\n",
    "lunch = '냉장고'\n",
    "dinner = random.choice(['김밥', '쫄면', '돈까스'])\n",
    "print(lunch)"
   ]
  },
  {
   "cell_type": "code",
   "execution_count": 5,
   "metadata": {},
   "outputs": [
    {
     "name": "stdout",
     "output_type": "stream",
     "text": [
      "{'고향': '수원', '취미': '영화관람', '좋아하는 음식': '국수'}\n",
      "영화관람\n",
      "피아노\n",
      "서울\n"
     ]
    }
   ],
   "source": [
    "# dictionary\n",
    "\n",
    "information = {'고향':'수원', '취미':'영화관람', '좋아하는 음식':'국수'}\n",
    "print(information)\n",
    "print(information.get('취미'))\n",
    "\n",
    "information = {'특기':'피아노', '사는곳':'서울'}\n",
    "print(information.get('특기'))\n",
    "print(information.get('사는곳'))"
   ]
  },
  {
   "cell_type": "code",
   "execution_count": 6,
   "metadata": {},
   "outputs": [
    {
     "name": "stdout",
     "output_type": "stream",
     "text": [
      "영화관람\n",
      "{'고향': '수원', '취미': '영화관람', '특기': '피아노', '사는곳': '서울'}\n",
      "4\n",
      "{}\n",
      "피자\n",
      "['된장찌개', '제육볶음', '김밥']\n"
     ]
    }
   ],
   "source": [
    "# list와 dictionary\n",
    "\n",
    "information = {'고향':'수원', '취미':'영화관람', '좋아하는 음식':'국수'}\n",
    "foods = ['된장찌개', '피자', '제육볶음']\n",
    "print(information.get('취미'))\n",
    "information['특기'] = '피아노'\n",
    "information['사는곳'] = '서울'\n",
    "del information['좋아하는 음식']\n",
    "print(information)\n",
    "print(len(information))\n",
    "information.clear()\n",
    "print(information)\n",
    "print(foods[-2])\n",
    "foods.append('김밥')\n",
    "del foods[1]\n",
    "print(foods)"
   ]
  },
  {
   "cell_type": "code",
   "execution_count": 7,
   "metadata": {},
   "outputs": [
    {
     "name": "stdout",
     "output_type": "stream",
     "text": [
      "0\n",
      "1\n",
      "2\n",
      "3\n",
      "4\n",
      "5\n",
      "6\n",
      "7\n",
      "8\n",
      "9\n",
      "10\n",
      "11\n",
      "12\n",
      "13\n",
      "14\n",
      "15\n",
      "16\n",
      "17\n",
      "18\n",
      "19\n",
      "20\n",
      "21\n",
      "22\n",
      "23\n",
      "24\n",
      "25\n",
      "26\n",
      "27\n",
      "28\n",
      "29\n",
      "된장찌개\n",
      "피자\n",
      "제육볶음\n",
      "된장찌개\n",
      "피자\n",
      "제육볶음\n",
      "고향\n",
      "수원\n",
      "취미\n",
      "영화관람\n",
      "좋아하는 음식\n",
      "국수\n"
     ]
    }
   ],
   "source": [
    "# 끝까지 반복하기\n",
    "\n",
    "for x in range(30):\n",
    "    print(x)\n",
    "\n",
    "foods = ['된장찌개', '피자', '제육볶음']\n",
    "for x in range(3):\n",
    "    print(foods[x])\n",
    "for x in foods:\n",
    "    print(x)\n",
    "\n",
    "information = {'고향':'수원', '취미':'영화관람', '좋아하는 음식':'국수'}\n",
    "for x, y in information.items():\n",
    "    print(x)\n",
    "    print(y)"
   ]
  },
  {
   "cell_type": "code",
   "execution_count": 8,
   "metadata": {},
   "outputs": [
    {
     "name": "stdout",
     "output_type": "stream",
     "text": [
      "{'된장찌개', '피자', '제육볶음'}\n",
      "{'된장찌개', '피자', '제육볶음'}\n"
     ]
    }
   ],
   "source": [
    "# 집합\n",
    "\n",
    "foods = [\"된장찌개\", \"피자\", \"제육볶음\"]\n",
    "foods_set1 = set(foods)\n",
    "foods_set2 = set([\"된장찌개\", \"피자\", \"제육볶음\"])\n",
    "print(foods_set1)\n",
    "print(foods_set2)"
   ]
  },
  {
   "cell_type": "code",
   "execution_count": 9,
   "metadata": {},
   "outputs": [
    {
     "name": "stdout",
     "output_type": "stream",
     "text": [
      "{'피자', '제육볶음'}\n"
     ]
    }
   ],
   "source": [
    "menu1 = set([\"된장찌개\", \"피자\", \"제육볶음\"])\n",
    "menu2 = set([\"된장찌개\", \"떡국\", \"김밥\"])\n",
    "menu3 = menu1 - menu2\n",
    "print(menu3)"
   ]
  },
  {
   "cell_type": "code",
   "execution_count": 11,
   "metadata": {},
   "outputs": [
    {
     "name": "stdout",
     "output_type": "stream",
     "text": [
      "된장찌개\n",
      "그냥 주세요\n",
      "종료\n"
     ]
    }
   ],
   "source": [
    "# if문\n",
    "\n",
    "import random\n",
    "\n",
    "food = random.choice([\"된장찌개\",\"피자\",\"제육볶음\"])\n",
    "\n",
    "print(food)\n",
    "if(food == \"제육볶음\"):\n",
    "    print(\"곱배기 주세요\")\n",
    "else:\n",
    "    print(\"그냥 주세요\")\n",
    "print(\"종료\")"
   ]
  },
  {
   "cell_type": "markdown",
   "metadata": {},
   "source": [
    "### [오늘은 뭐 드실?]"
   ]
  },
  {
   "cell_type": "code",
   "execution_count": 14,
   "metadata": {},
   "outputs": [
    {
     "name": "stdout",
     "output_type": "stream",
     "text": [
      "['된장찌개', '피자', '제육볶음', '짜장면']\n",
      "['된장찌개', '피자', '제육볶음', '짜장면']\n",
      "{'된장찌개', '피자', '짜장면', '제육볶음'}\n",
      "{'된장찌개', '피자', '짜장면', '제육볶음'} 중에서 선택합니다.\n",
      "5\n",
      "4\n",
      "3\n",
      "2\n",
      "1\n",
      "짜장면\n"
     ]
    }
   ],
   "source": [
    "import random\n",
    "import time\n",
    "\n",
    "lunch = [\"된장찌개\", \"피자\", \"제육볶음\", \"짜장면\"]\n",
    "\n",
    "while True:\n",
    "    print(lunch)\n",
    "    item = input(\"음식을 추가 해주세요 : \")\n",
    "    if(item == \"q\"):\n",
    "        break\n",
    "    else:\n",
    "        lunch.append(item)\n",
    "print(lunch)\n",
    "\n",
    "set_lunch = set(lunch)\n",
    "while True:\n",
    "    print(set_lunch)\n",
    "    item = input(\"음식을 삭제해주세요 : \")\n",
    "    if(item == \"q\"):\n",
    "        break\n",
    "    else:\n",
    "        set_lunch = set_lunch - set([item])\n",
    "\n",
    "print(set_lunch, \"중에서 선택합니다.\")\n",
    "print(\"5\")\n",
    "time.sleep(1)\n",
    "print(\"4\")\n",
    "time.sleep(1)\n",
    "print(\"3\")\n",
    "time.sleep(1)\n",
    "print(\"2\")\n",
    "time.sleep(1)\n",
    "print(\"1\")\n",
    "time.sleep(1)\n",
    "print(random.choice(list(set_lunch)))\n"
   ]
  },
  {
   "cell_type": "markdown",
   "metadata": {},
   "source": [
    "### [이상형이 뭐에요?]"
   ]
  },
  {
   "cell_type": "code",
   "execution_count": 15,
   "metadata": {},
   "outputs": [
    {
     "name": "stdout",
     "output_type": "stream",
     "text": [
      "1. 얼음을 넣는다.\n",
      "2. 연유를 30ml 넣는다.\n",
      "3. 찬 우유를 넣는다.\n",
      "4. 에스프레소샷을 넣는다.\n",
      "1. 얼음을 넣는다.\n",
      "2. 연유를 30ml 넣는다.\n",
      "3. 찬 우유를 넣는다.\n",
      "4. 에스프레소샷을 넣는다.\n"
     ]
    }
   ],
   "source": [
    "# 함수\n",
    "def make_dolcelatte():\n",
    "    print(\"1. 얼음을 넣는다.\")\n",
    "    print(\"2. 연유를 30ml 넣는다.\")\n",
    "    print(\"3. 찬 우유를 넣는다.\")\n",
    "    print(\"4. 에스프레소샷을 넣는다.\")\n",
    "\n",
    "def make_blueberry_smoothie():\n",
    "    print(\"1. 블루베리 20g을 넣는다.\")\n",
    "    print(\"2. 우유 300ml를 넣는다.\")\n",
    "    print(\"3. 얼음을 넣는다.\")\n",
    "    print(\"4. 믹서기에 간다.\")\n",
    "\n",
    "def make_simple_latte():\n",
    "    print(\"1. 커피를 넣는다.\")\n",
    "    print(\"2. 우유를 넣는다.\")\n",
    "    print(\"3. 신나게 섞는다.\")\n",
    "\n",
    "make_dolcelatte()\n",
    "make_dolcelatte()"
   ]
  },
  {
   "cell_type": "code",
   "execution_count": 16,
   "metadata": {},
   "outputs": [
    {
     "name": "stdout",
     "output_type": "stream",
     "text": [
      "[]\n"
     ]
    }
   ],
   "source": [
    "total_list = []\n",
    "while True:\n",
    "    question = input(\"질문을 입력해주세요 : \")\n",
    "    if question == \"q\":\n",
    "        break\n",
    "    else:\n",
    "        total_list.append({\"질문\" : question, \"답변\" : \"\"})\n",
    "\n",
    "\n",
    "for i in total_list:\n",
    "    print(i[\"질문\"])\n",
    "    answer = input(\"답변을 입력해주세요 : \")\n",
    "    i[\"답변\"] = answer\n",
    "print(total_list)"
   ]
  },
  {
   "cell_type": "code",
   "execution_count": null,
   "metadata": {},
   "outputs": [],
   "source": []
  }
 ],
 "metadata": {
  "interpreter": {
   "hash": "4939942bb64a3b5bba3f99013f53afb450b39af59b142fb44879ccfd4d19dab1"
  },
  "kernelspec": {
   "display_name": "Python 3.9.7 ('base')",
   "language": "python",
   "name": "python3"
  },
  "language_info": {
   "codemirror_mode": {
    "name": "ipython",
    "version": 3
   },
   "file_extension": ".py",
   "mimetype": "text/x-python",
   "name": "python",
   "nbconvert_exporter": "python",
   "pygments_lexer": "ipython3",
   "version": "3.9.7"
  },
  "orig_nbformat": 4
 },
 "nbformat": 4,
 "nbformat_minor": 2
}
